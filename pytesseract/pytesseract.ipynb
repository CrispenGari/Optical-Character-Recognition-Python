{
 "cells": [
  {
   "cell_type": "markdown",
   "id": "executed-graduate",
   "metadata": {},
   "source": [
    "# pytesseract -Optical Character Recognition (OCR)\n",
    "* Python-tesseract is an optical character recognition (OCR) tool for python. That is, it will recognize and “read” the text embedded in images."
   ]
  },
  {
   "cell_type": "markdown",
   "id": "vocal-stadium",
   "metadata": {},
   "source": [
    "## Quick Start"
   ]
  },
  {
   "cell_type": "markdown",
   "id": "hidden-douglas",
   "metadata": {},
   "source": [
    "> First you need to download and install [tessaract](https://github.com/UB-Mannheim/tesseract/wiki) in your machine"
   ]
  },
  {
   "cell_type": "markdown",
   "id": "alien-rubber",
   "metadata": {},
   "source": [
    "> Set the tesseract path in the script before calling image_to_string: pytesseract.pytesseract.tesseract_cmd = r'C:\\Program Files\\Tesseract-OCRtesseract.exe'"
   ]
  },
  {
   "cell_type": "markdown",
   "id": "tribal-meaning",
   "metadata": {},
   "source": [
    "### Installation"
   ]
  },
  {
   "cell_type": "code",
   "execution_count": 1,
   "id": "activated-inspection",
   "metadata": {},
   "outputs": [
    {
     "name": "stdout",
     "output_type": "stream",
     "text": [
      "Collecting pytesseract\n",
      "  Downloading pytesseract-0.3.7.tar.gz (13 kB)\n",
      "Requirement already satisfied: Pillow in c:\\users\\crisp\\documents\\anaconda3\\lib\\site-packages (from pytesseract) (8.1.2)\n",
      "Building wheels for collected packages: pytesseract\n",
      "  Building wheel for pytesseract (setup.py): started\n",
      "  Building wheel for pytesseract (setup.py): finished with status 'done'\n",
      "  Created wheel for pytesseract: filename=pytesseract-0.3.7-py2.py3-none-any.whl size=13945 sha256=1aafbbc8f5350c79d890c203339dd290a2cc4cade9fad925cc9e659f12945fab\n",
      "  Stored in directory: c:\\users\\crisp\\appdata\\local\\pip\\cache\\wheels\\ac\\5b\\f4\\d5bcc930771126a32285e058c576eda84e43691453a9f7ad71\n",
      "Successfully built pytesseract\n",
      "Installing collected packages: pytesseract\n",
      "Successfully installed pytesseract-0.3.7\n"
     ]
    }
   ],
   "source": [
    "!pip install pytesseract"
   ]
  },
  {
   "cell_type": "code",
   "execution_count": 3,
   "id": "blank-gilbert",
   "metadata": {},
   "outputs": [
    {
     "name": "stdout",
     "output_type": "stream",
     "text": [
      "Requirement already satisfied: pillow in c:\\users\\crisp\\documents\\anaconda3\\lib\\site-packages (8.1.2)\n"
     ]
    }
   ],
   "source": [
    "!pip install pillow"
   ]
  },
  {
   "cell_type": "markdown",
   "id": "minimal-alexandria",
   "metadata": {},
   "source": [
    "### Examples"
   ]
  },
  {
   "cell_type": "markdown",
   "id": "favorite-warrior",
   "metadata": {},
   "source": [
    "### Imports of packages"
   ]
  },
  {
   "cell_type": "code",
   "execution_count": 4,
   "id": "vulnerable-review",
   "metadata": {},
   "outputs": [],
   "source": [
    "import numpy as np\n",
    "import matplotlib.pyplot as plt\n",
    "import cv2\n",
    "import pytesseract\n",
    "from PIL import Image"
   ]
  },
  {
   "cell_type": "code",
   "execution_count": 9,
   "id": "parallel-scratch",
   "metadata": {},
   "outputs": [],
   "source": [
    "pytesseract.pytesseract.tesseract_cmd = r'C:\\Program Files\\Tesseract-OCR\\tesseract.exe'"
   ]
  },
  {
   "cell_type": "markdown",
   "id": "collaborative-steel",
   "metadata": {},
   "source": [
    "### Reading image using Pillow\n",
    "* We are going to read the image using PIL and then extract the text that is on the image.\n"
   ]
  },
  {
   "cell_type": "code",
   "execution_count": 12,
   "id": "rocky-brighton",
   "metadata": {},
   "outputs": [
    {
     "name": "stdout",
     "output_type": "stream",
     "text": [
      "Make Odd\n",
      "\n",
      "You are given an array consisting of positive integers.\n",
      "You need to make all the numbers odd in minimum\n",
      "number of steps. For this you can select a number ‘a’\n",
      "from the array and divide all it’s occurrences by 2. Find\n",
      "the minimum number of steps.\n",
      "\f",
      "\n"
     ]
    }
   ],
   "source": [
    "text = pytesseract.image_to_string(Image.open('images/1.png'))\n",
    "\n",
    "print(text)"
   ]
  },
  {
   "cell_type": "markdown",
   "id": "exempt-founder",
   "metadata": {},
   "source": [
    "### Getting all languages Available"
   ]
  },
  {
   "cell_type": "code",
   "execution_count": 16,
   "id": "intelligent-fraud",
   "metadata": {},
   "outputs": [
    {
     "data": {
      "text/plain": [
       "['eng', 'osd']"
      ]
     },
     "execution_count": 16,
     "metadata": {},
     "output_type": "execute_result"
    }
   ],
   "source": [
    "lang = pytesseract.get_languages()\n",
    "lang"
   ]
  },
  {
   "cell_type": "markdown",
   "id": "injured-humanitarian",
   "metadata": {},
   "source": [
    "### Specifying the Lang"
   ]
  },
  {
   "cell_type": "code",
   "execution_count": 21,
   "id": "embedded-cable",
   "metadata": {},
   "outputs": [
    {
     "name": "stdout",
     "output_type": "stream",
     "text": [
      "Example\n",
      "Input\n",
      "\n",
      "6\n",
      "40 6 40 3 20 1\n",
      "\n",
      "Output\n",
      "A\n",
      "\f",
      "\n"
     ]
    }
   ],
   "source": [
    "text = pytesseract.image_to_string(Image.open('images/2.png'), lang=\"eng\")\n",
    "\n",
    "print(text)"
   ]
  },
  {
   "cell_type": "markdown",
   "id": "electrical-blood",
   "metadata": {},
   "source": [
    "### Getting the boundingbox for each character"
   ]
  },
  {
   "cell_type": "code",
   "execution_count": 23,
   "id": "secret-newton",
   "metadata": {},
   "outputs": [
    {
     "name": "stdout",
     "output_type": "stream",
     "text": [
      "E 116 945 176 1034 0\n",
      "x 183 945 243 1013 0\n",
      "a 251 945 310 1013 0\n",
      "m 323 945 418 1013 0\n",
      "p 387 921 451 1040 0\n",
      "l 434 921 494 1013 0\n",
      "e 508 945 601 1040 0\n",
      "I 115 762 132 840 0\n",
      "n 147 762 196 821 0\n",
      "p 210 740 261 822 0\n",
      "u 272 762 321 821 0\n",
      "t 329 762 363 836 0\n",
      "6 115 573 163 652 0\n",
      "4 110 436 166 514 0\n",
      "0 176 436 225 514 0\n",
      "6 277 436 317 514 0\n",
      "4 372 436 411 515 0\n",
      "0 421 436 470 514 0\n",
      "3 514 436 560 514 0\n",
      "2 604 436 655 514 0\n",
      "0 667 436 705 514 0\n",
      "1 761 436 790 514 0\n",
      "O 112 248 178 326 0\n",
      "u 189 247 239 307 0\n",
      "t 247 248 281 322 0\n",
      "p 291 226 342 307 0\n",
      "u 353 248 402 307 0\n",
      "t 410 248 445 322 0\n",
      "A 110 59 166 138 0\n",
      "\n"
     ]
    }
   ],
   "source": [
    "print(pytesseract.image_to_boxes(Image.open('images/2.png')))"
   ]
  },
  {
   "cell_type": "markdown",
   "id": "perceived-special",
   "metadata": {},
   "source": [
    "### Get verbose data including boxes, confidences, line and page numbers"
   ]
  },
  {
   "cell_type": "code",
   "execution_count": 25,
   "id": "overhead-teddy",
   "metadata": {},
   "outputs": [
    {
     "name": "stdout",
     "output_type": "stream",
     "text": [
      "level\tpage_num\tblock_num\tpar_num\tline_num\tword_num\tleft\ttop\twidth\theight\tconf\ttext\n",
      "1\t1\t0\t0\t0\t0\t0\t0\t1080\t1080\t-1\t\n",
      "2\t1\t1\t0\t0\t0\t25\t387\t212\t35\t-1\t\n",
      "3\t1\t1\t1\t0\t0\t25\t387\t212\t35\t-1\t\n",
      "4\t1\t1\t1\t1\t0\t25\t387\t212\t35\t-1\t\n",
      "5\t1\t1\t1\t1\t1\t25\t387\t114\t35\t96\tMake\n",
      "5\t1\t1\t1\t1\t2\t155\t387\t82\t35\t95\tOdd\n",
      "2\t1\t2\t0\t0\t0\t22\t456\t1029\t243\t-1\t\n",
      "3\t1\t2\t1\t0\t0\t22\t456\t1029\t243\t-1\t\n",
      "4\t1\t2\t1\t1\t0\t23\t456\t1025\t39\t-1\t\n",
      "5\t1\t2\t1\t1\t1\t23\t458\t65\t29\t95\tYou\n",
      "5\t1\t2\t1\t1\t2\t110\t465\t54\t22\t95\tare\n",
      "5\t1\t2\t1\t1\t3\t185\t458\t93\t37\t95\tgiven\n",
      "5\t1\t2\t1\t1\t4\t300\t465\t39\t22\t96\tan\n",
      "5\t1\t2\t1\t1\t5\t361\t465\t89\t30\t96\tarray\n",
      "5\t1\t2\t1\t1\t6\t469\t458\t187\t37\t96\tconsisting\n",
      "5\t1\t2\t1\t1\t7\t677\t456\t36\t31\t96\tof\n",
      "5\t1\t2\t1\t1\t8\t733\t458\t140\t37\t96\tpositive\n",
      "5\t1\t2\t1\t1\t9\t894\t458\t154\t37\t96\tintegers.\n",
      "4\t1\t2\t1\t2\t0\t22\t507\t1027\t31\t-1\t\n",
      "5\t1\t2\t1\t2\t1\t22\t509\t66\t29\t96\tYou\n",
      "5\t1\t2\t1\t2\t2\t116\t507\t84\t31\t95\tneed\n",
      "5\t1\t2\t1\t2\t3\t224\t510\t35\t28\t95\tto\n",
      "5\t1\t2\t1\t2\t4\t285\t507\t96\t31\t95\tmake\n",
      "5\t1\t2\t1\t2\t5\t407\t507\t37\t31\t96\tall\n",
      "5\t1\t2\t1\t2\t6\t469\t507\t57\t31\t96\tthe\n",
      "5\t1\t2\t1\t2\t7\t552\t507\t157\t31\t95\tnumbers\n",
      "5\t1\t2\t1\t2\t8\t734\t507\t66\t31\t96\todd\n",
      "5\t1\t2\t1\t2\t9\t827\t509\t27\t29\t94\tin\n",
      "5\t1\t2\t1\t2\t10\t881\t509\t168\t29\t96\tminimum\n",
      "4\t1\t2\t1\t3\t0\t24\t558\t1027\t39\t-1\t\n",
      "5\t1\t2\t1\t3\t1\t24\t558\t138\t31\t96\tnumber\n",
      "5\t1\t2\t1\t3\t2\t181\t558\t36\t31\t96\tof\n",
      "5\t1\t2\t1\t3\t3\t236\t561\t107\t36\t96\tsteps.\n",
      "5\t1\t2\t1\t3\t4\t367\t560\t56\t29\t95\tFor\n",
      "5\t1\t2\t1\t3\t5\t440\t558\t66\t31\t96\tthis\n",
      "5\t1\t2\t1\t3\t6\t526\t567\t62\t30\t96\tyou\n",
      "5\t1\t2\t1\t3\t7\t609\t567\t62\t22\t96\tcan\n",
      "5\t1\t2\t1\t3\t8\t693\t558\t107\t31\t95\tselect\n",
      "5\t1\t2\t1\t3\t9\t821\t567\t17\t22\t96\ta\n",
      "5\t1\t2\t1\t3\t10\t860\t558\t137\t31\t95\tnumber\n",
      "5\t1\t2\t1\t3\t11\t1016\t558\t35\t31\t96\t‘a’\n",
      "4\t1\t2\t1\t4\t0\t23\t609\t1026\t39\t-1\t\n",
      "5\t1\t2\t1\t4\t1\t23\t609\t84\t31\t96\tfrom\n",
      "5\t1\t2\t1\t4\t2\t123\t609\t57\t31\t96\tthe\n",
      "5\t1\t2\t1\t4\t3\t197\t618\t89\t30\t96\tarray\n",
      "5\t1\t2\t1\t4\t4\t303\t609\t63\t31\t96\tand\n",
      "5\t1\t2\t1\t4\t5\t384\t609\t106\t31\t96\tdivide\n",
      "5\t1\t2\t1\t4\t6\t508\t609\t38\t31\t96\tall\n",
      "5\t1\t2\t1\t4\t7\t566\t609\t46\t31\t92\tit’s\n",
      "5\t1\t2\t1\t4\t8\t630\t618\t223\t22\t95\toccurrences\n",
      "5\t1\t2\t1\t4\t9\t872\t609\t39\t39\t96\tby\n",
      "5\t1\t2\t1\t4\t10\t927\t611\t29\t29\t96\t2.\n",
      "5\t1\t2\t1\t4\t11\t976\t609\t73\t31\t96\tFind\n",
      "4\t1\t2\t1\t5\t0\t22\t660\t564\t39\t-1\t\n",
      "5\t1\t2\t1\t5\t1\t22\t660\t57\t31\t96\tthe\n",
      "5\t1\t2\t1\t5\t2\t94\t662\t168\t29\t96\tminimum\n",
      "5\t1\t2\t1\t5\t3\t279\t660\t137\t31\t96\tnumber\n",
      "5\t1\t2\t1\t5\t4\t429\t660\t36\t31\t95\tof\n",
      "5\t1\t2\t1\t5\t5\t478\t664\t108\t35\t96\tsteps.\n",
      "\n"
     ]
    }
   ],
   "source": [
    "print(pytesseract.image_to_data(Image.open('images/1.png')))"
   ]
  },
  {
   "cell_type": "code",
   "execution_count": null,
   "id": "virgin-alignment",
   "metadata": {},
   "outputs": [],
   "source": []
  },
  {
   "cell_type": "markdown",
   "id": "important-conditioning",
   "metadata": {},
   "source": [
    "### Get information about orientation and script detection"
   ]
  },
  {
   "cell_type": "code",
   "execution_count": 27,
   "id": "fluid-string",
   "metadata": {},
   "outputs": [
    {
     "name": "stdout",
     "output_type": "stream",
     "text": [
      "Page number: 0\n",
      "Orientation in degrees: 0\n",
      "Rotate: 0\n",
      "Orientation confidence: 11.68\n",
      "Script: Latin\n",
      "Script confidence: 22.86\n",
      "\n"
     ]
    }
   ],
   "source": [
    "print(pytesseract.image_to_osd(Image.open('images/1.png')))"
   ]
  },
  {
   "cell_type": "markdown",
   "id": "earlier-spare",
   "metadata": {},
   "source": [
    "### Get a searchable PDF\n",
    "* Create a pdf that we can search, copy from an image\n",
    "* Can be used to create a scanned pdf to be able to copy text"
   ]
  },
  {
   "cell_type": "code",
   "execution_count": 30,
   "id": "trained-reconstruction",
   "metadata": {},
   "outputs": [
    {
     "name": "stdout",
     "output_type": "stream",
     "text": [
      "PDF CREATED\n"
     ]
    }
   ],
   "source": [
    "pdf = pytesseract.image_to_pdf_or_hocr('images/1.png', extension='pdf')\n",
    "with open('test.pdf', 'w+b') as f:\n",
    "    f.write(pdf) # pdf type is bytes by default\n",
    "print(\"PDF CREATED\")"
   ]
  },
  {
   "cell_type": "markdown",
   "id": "blocked-socket",
   "metadata": {},
   "source": [
    "### Image To HOCR"
   ]
  },
  {
   "cell_type": "code",
   "execution_count": 31,
   "id": "cardiac-parker",
   "metadata": {},
   "outputs": [
    {
     "name": "stdout",
     "output_type": "stream",
     "text": [
      "b'<?xml version=\"1.0\" encoding=\"UTF-8\"?>\\n<!DOCTYPE html PUBLIC \"-//W3C//DTD XHTML 1.0 Transitional//EN\"\\n    \"http://www.w3.org/TR/xhtml1/DTD/xhtml1-transitional.dtd\">\\n<html xmlns=\"http://www.w3.org/1999/xhtml\" xml:lang=\"en\" lang=\"en\">\\n <head>\\n  <title></title>\\n  <meta http-equiv=\"Content-Type\" content=\"text/html;charset=utf-8\"/>\\n  <meta name=\\'ocr-system\\' content=\\'tesseract v5.0.0-alpha.20201127\\' />\\n  <meta name=\\'ocr-capabilities\\' content=\\'ocr_page ocr_carea ocr_par ocr_line ocrx_word ocrp_wconf\\'/>\\n </head>\\n <body>\\n  <div class=\\'ocr_page\\' id=\\'page_1\\' title=\\'image \"C:\\\\Users\\\\crisp\\\\OneDrive\\\\Documents\\\\My Python\\\\ML\\\\easyORC\\\\pytesseract\\\\images\\\\1.png\"; bbox 0 0 1080 1080; ppageno 0\\'>\\n   <div class=\\'ocr_carea\\' id=\\'block_1_1\\' title=\"bbox 25 387 237 422\">\\n    <p class=\\'ocr_par\\' id=\\'par_1_1\\' lang=\\'eng\\' title=\"bbox 25 387 237 422\">\\n     <span class=\\'ocr_line\\' id=\\'line_1_1\\' title=\"bbox 25 387 237 422; baseline 0 0; x_size 40.392159; x_descenders 5.3921571; x_ascenders 10\">\\n      <span class=\\'ocrx_word\\' id=\\'word_1_1\\' title=\\'bbox 25 387 139 422; x_wconf 96\\'>Make</span>\\n      <span class=\\'ocrx_word\\' id=\\'word_1_2\\' title=\\'bbox 155 387 237 422; x_wconf 96\\'>Odd</span>\\n     </span>\\n    </p>\\n   </div>\\n   <div class=\\'ocr_carea\\' id=\\'block_1_2\\' title=\"bbox 22 456 1051 699\">\\n    <p class=\\'ocr_par\\' id=\\'par_1_2\\' lang=\\'eng\\' title=\"bbox 22 456 1051 699\">\\n     <span class=\\'ocr_line\\' id=\\'line_1_2\\' title=\"bbox 23 456 1048 495; baseline 0 -8; x_size 37; x_descenders 8; x_ascenders 7\">\\n      <span class=\\'ocrx_word\\' id=\\'word_1_3\\' title=\\'bbox 23 458 88 487; x_wconf 96\\'>You</span>\\n      <span class=\\'ocrx_word\\' id=\\'word_1_4\\' title=\\'bbox 110 465 164 487; x_wconf 95\\'>are</span>\\n      <span class=\\'ocrx_word\\' id=\\'word_1_5\\' title=\\'bbox 185 458 278 495; x_wconf 95\\'>given</span>\\n      <span class=\\'ocrx_word\\' id=\\'word_1_6\\' title=\\'bbox 300 465 339 487; x_wconf 96\\'>an</span>\\n      <span class=\\'ocrx_word\\' id=\\'word_1_7\\' title=\\'bbox 361 465 450 495; x_wconf 96\\'>array</span>\\n      <span class=\\'ocrx_word\\' id=\\'word_1_8\\' title=\\'bbox 469 458 656 495; x_wconf 96\\'>consisting</span>\\n      <span class=\\'ocrx_word\\' id=\\'word_1_9\\' title=\\'bbox 677 456 713 487; x_wconf 96\\'>of</span>\\n      <span class=\\'ocrx_word\\' id=\\'word_1_10\\' title=\\'bbox 733 458 873 495; x_wconf 96\\'>positive</span>\\n      <span class=\\'ocrx_word\\' id=\\'word_1_11\\' title=\\'bbox 894 458 1048 495; x_wconf 96\\'>integers.</span>\\n     </span>\\n     <span class=\\'ocr_line\\' id=\\'line_1_3\\' title=\"bbox 22 507 1049 538; baseline 0 0; x_size 39.203465; x_descenders 8.2034655; x_ascenders 9\">\\n      <span class=\\'ocrx_word\\' id=\\'word_1_12\\' title=\\'bbox 22 509 88 538; x_wconf 96\\'>You</span>\\n      <span class=\\'ocrx_word\\' id=\\'word_1_13\\' title=\\'bbox 116 507 200 538; x_wconf 96\\'>need</span>\\n      <span class=\\'ocrx_word\\' id=\\'word_1_14\\' title=\\'bbox 224 510 259 538; x_wconf 96\\'>to</span>\\n      <span class=\\'ocrx_word\\' id=\\'word_1_15\\' title=\\'bbox 285 507 381 538; x_wconf 95\\'>make</span>\\n      <span class=\\'ocrx_word\\' id=\\'word_1_16\\' title=\\'bbox 407 507 444 538; x_wconf 95\\'>all</span>\\n      <span class=\\'ocrx_word\\' id=\\'word_1_17\\' title=\\'bbox 469 507 526 538; x_wconf 95\\'>the</span>\\n      <span class=\\'ocrx_word\\' id=\\'word_1_18\\' title=\\'bbox 552 507 709 538; x_wconf 96\\'>numbers</span>\\n      <span class=\\'ocrx_word\\' id=\\'word_1_19\\' title=\\'bbox 734 507 800 538; x_wconf 95\\'>odd</span>\\n      <span class=\\'ocrx_word\\' id=\\'word_1_20\\' title=\\'bbox 827 509 854 538; x_wconf 95\\'>in</span>\\n      <span class=\\'ocrx_word\\' id=\\'word_1_21\\' title=\\'bbox 881 509 1049 538; x_wconf 96\\'>minimum</span>\\n     </span>\\n     <span class=\\'ocr_line\\' id=\\'line_1_4\\' title=\"bbox 24 558 1051 597; baseline 0 -8; x_size 39; x_descenders 8; x_ascenders 9\">\\n      <span class=\\'ocrx_word\\' id=\\'word_1_22\\' title=\\'bbox 24 558 162 589; x_wconf 96\\'>number</span>\\n      <span class=\\'ocrx_word\\' id=\\'word_1_23\\' title=\\'bbox 181 558 217 589; x_wconf 96\\'>of</span>\\n      <span class=\\'ocrx_word\\' id=\\'word_1_24\\' title=\\'bbox 236 561 343 597; x_wconf 96\\'>steps.</span>\\n      <span class=\\'ocrx_word\\' id=\\'word_1_25\\' title=\\'bbox 367 560 423 589; x_wconf 96\\'>For</span>\\n      <span class=\\'ocrx_word\\' id=\\'word_1_26\\' title=\\'bbox 440 558 506 589; x_wconf 96\\'>this</span>\\n      <span class=\\'ocrx_word\\' id=\\'word_1_27\\' title=\\'bbox 526 567 588 597; x_wconf 96\\'>you</span>\\n      <span class=\\'ocrx_word\\' id=\\'word_1_28\\' title=\\'bbox 609 567 671 589; x_wconf 96\\'>can</span>\\n      <span class=\\'ocrx_word\\' id=\\'word_1_29\\' title=\\'bbox 693 558 800 589; x_wconf 95\\'>select</span>\\n      <span class=\\'ocrx_word\\' id=\\'word_1_30\\' title=\\'bbox 821 567 838 589; x_wconf 96\\'>a</span>\\n      <span class=\\'ocrx_word\\' id=\\'word_1_31\\' title=\\'bbox 860 558 997 589; x_wconf 96\\'>number</span>\\n      <span class=\\'ocrx_word\\' id=\\'word_1_32\\' title=\\'bbox 1016 558 1051 589; x_wconf 96\\'>\\xe2\\x80\\x98a\\xe2\\x80\\x99</span>\\n     </span>\\n     <span class=\\'ocr_line\\' id=\\'line_1_5\\' title=\"bbox 23 609 1049 648; baseline 0 -8; x_size 39; x_descenders 8; x_ascenders 9\">\\n      <span class=\\'ocrx_word\\' id=\\'word_1_33\\' title=\\'bbox 23 609 107 640; x_wconf 96\\'>from</span>\\n      <span class=\\'ocrx_word\\' id=\\'word_1_34\\' title=\\'bbox 123 609 180 640; x_wconf 96\\'>the</span>\\n      <span class=\\'ocrx_word\\' id=\\'word_1_35\\' title=\\'bbox 197 618 286 648; x_wconf 96\\'>array</span>\\n      <span class=\\'ocrx_word\\' id=\\'word_1_36\\' title=\\'bbox 303 609 366 640; x_wconf 96\\'>and</span>\\n      <span class=\\'ocrx_word\\' id=\\'word_1_37\\' title=\\'bbox 384 609 490 640; x_wconf 96\\'>divide</span>\\n      <span class=\\'ocrx_word\\' id=\\'word_1_38\\' title=\\'bbox 508 609 546 640; x_wconf 96\\'>all</span>\\n      <span class=\\'ocrx_word\\' id=\\'word_1_39\\' title=\\'bbox 566 609 613 640; x_wconf 93\\'>it\\xe2\\x80\\x99s</span>\\n      <span class=\\'ocrx_word\\' id=\\'word_1_40\\' title=\\'bbox 630 618 853 640; x_wconf 96\\'>occurrences</span>\\n      <span class=\\'ocrx_word\\' id=\\'word_1_41\\' title=\\'bbox 872 609 911 648; x_wconf 96\\'>by</span>\\n      <span class=\\'ocrx_word\\' id=\\'word_1_42\\' title=\\'bbox 927 611 956 640; x_wconf 96\\'>2.</span>\\n      <span class=\\'ocrx_word\\' id=\\'word_1_43\\' title=\\'bbox 976 609 1049 640; x_wconf 96\\'>Find</span>\\n     </span>\\n     <span class=\\'ocr_line\\' id=\\'line_1_6\\' title=\"bbox 22 660 586 699; baseline 0 -8; x_size 39; x_descenders 8; x_ascenders 9\">\\n      <span class=\\'ocrx_word\\' id=\\'word_1_44\\' title=\\'bbox 22 660 79 691; x_wconf 96\\'>the</span>\\n      <span class=\\'ocrx_word\\' id=\\'word_1_45\\' title=\\'bbox 94 662 262 691; x_wconf 96\\'>minimum</span>\\n      <span class=\\'ocrx_word\\' id=\\'word_1_46\\' title=\\'bbox 279 660 416 691; x_wconf 96\\'>number</span>\\n      <span class=\\'ocrx_word\\' id=\\'word_1_47\\' title=\\'bbox 429 660 465 691; x_wconf 95\\'>of</span>\\n      <span class=\\'ocrx_word\\' id=\\'word_1_48\\' title=\\'bbox 478 664 586 699; x_wconf 96\\'>steps.</span>\\n     </span>\\n    </p>\\n   </div>\\n  </div>\\n </body>\\n</html>\\n'\n"
     ]
    }
   ],
   "source": [
    "hocr = pytesseract.image_to_pdf_or_hocr('images/1.png', extension='hocr')\n",
    "print(hocr)"
   ]
  },
  {
   "cell_type": "markdown",
   "id": "eligible-sheep",
   "metadata": {},
   "source": [
    "### Image To XLM"
   ]
  },
  {
   "cell_type": "code",
   "execution_count": 33,
   "id": "hydraulic-cherry",
   "metadata": {},
   "outputs": [
    {
     "data": {
      "text/plain": [
       "b'<?xml version=\"1.0\" encoding=\"UTF-8\"?>\\n<alto xmlns=\"http://www.loc.gov/standards/alto/ns-v3#\" xmlns:xlink=\"http://www.w3.org/1999/xlink\" xmlns:xsi=\"http://www.w3.org/2001/XMLSchema-instance\" xsi:schemaLocation=\"http://www.loc.gov/standards/alto/ns-v3# http://www.loc.gov/alto/v3/alto-3-0.xsd\">\\n\\t<Description>\\n\\t\\t<MeasurementUnit>pixel</MeasurementUnit>\\n\\t\\t<sourceImageInformation>\\n\\t\\t\\t<fileName></fileName>\\n\\t\\t</sourceImageInformation>\\n\\t\\t<OCRProcessing ID=\"OCR_0\">\\n\\t\\t\\t<ocrProcessingStep>\\n\\t\\t\\t\\t<processingSoftware>\\n\\t\\t\\t\\t\\t<softwareName>tesseract v5.0.0-alpha.20201127</softwareName>\\n\\t\\t\\t\\t</processingSoftware>\\n\\t\\t\\t</ocrProcessingStep>\\n\\t\\t</OCRProcessing>\\n\\t</Description>\\n\\t<Layout>\\n\\t\\t<Page WIDTH=\"1080\" HEIGHT=\"1080\" PHYSICAL_IMG_NR=\"0\" ID=\"page_0\">\\n\\t\\t\\t<PrintSpace HPOS=\"0\" VPOS=\"0\" WIDTH=\"1080\" HEIGHT=\"1080\">\\n\\t\\t\\t\\t<ComposedBlock ID=\"cblock_0\" HPOS=\"25\" VPOS=\"387\" WIDTH=\"212\" HEIGHT=\"35\">\\n\\t\\t\\t\\t\\t<TextBlock ID=\"block_0\" HPOS=\"25\" VPOS=\"387\" WIDTH=\"212\" HEIGHT=\"35\">\\n\\t\\t\\t\\t\\t\\t<TextLine ID=\"line_0\" HPOS=\"25\" VPOS=\"387\" WIDTH=\"212\" HEIGHT=\"35\">\\n\\t\\t\\t\\t\\t\\t\\t<String ID=\"string_0\" HPOS=\"25\" VPOS=\"387\" WIDTH=\"114\" HEIGHT=\"35\" WC=\"0.96\" CONTENT=\"Make\"/><SP WIDTH=\"16\" VPOS=\"387\" HPOS=\"139\"/>\\n\\t\\t\\t\\t\\t\\t\\t<String ID=\"string_1\" HPOS=\"155\" VPOS=\"387\" WIDTH=\"82\" HEIGHT=\"35\" WC=\"0.96\" CONTENT=\"Odd\"/>\\n\\t\\t\\t\\t\\t\\t</TextLine>\\n\\t\\t\\t\\t\\t</TextBlock>\\n\\t\\t\\t\\t</ComposedBlock>\\n\\t\\t\\t\\t<ComposedBlock ID=\"cblock_1\" HPOS=\"22\" VPOS=\"456\" WIDTH=\"1029\" HEIGHT=\"243\">\\n\\t\\t\\t\\t\\t<TextBlock ID=\"block_1\" HPOS=\"22\" VPOS=\"456\" WIDTH=\"1029\" HEIGHT=\"243\">\\n\\t\\t\\t\\t\\t\\t<TextLine ID=\"line_1\" HPOS=\"23\" VPOS=\"456\" WIDTH=\"1025\" HEIGHT=\"39\">\\n\\t\\t\\t\\t\\t\\t\\t<String ID=\"string_2\" HPOS=\"23\" VPOS=\"458\" WIDTH=\"65\" HEIGHT=\"29\" WC=\"0.96\" CONTENT=\"You\"/><SP WIDTH=\"22\" VPOS=\"458\" HPOS=\"88\"/>\\n\\t\\t\\t\\t\\t\\t\\t<String ID=\"string_3\" HPOS=\"110\" VPOS=\"465\" WIDTH=\"54\" HEIGHT=\"22\" WC=\"0.95\" CONTENT=\"are\"/><SP WIDTH=\"21\" VPOS=\"465\" HPOS=\"164\"/>\\n\\t\\t\\t\\t\\t\\t\\t<String ID=\"string_4\" HPOS=\"185\" VPOS=\"458\" WIDTH=\"93\" HEIGHT=\"37\" WC=\"0.95\" CONTENT=\"given\"/><SP WIDTH=\"22\" VPOS=\"458\" HPOS=\"278\"/>\\n\\t\\t\\t\\t\\t\\t\\t<String ID=\"string_5\" HPOS=\"300\" VPOS=\"465\" WIDTH=\"39\" HEIGHT=\"22\" WC=\"0.96\" CONTENT=\"an\"/><SP WIDTH=\"22\" VPOS=\"465\" HPOS=\"339\"/>\\n\\t\\t\\t\\t\\t\\t\\t<String ID=\"string_6\" HPOS=\"361\" VPOS=\"465\" WIDTH=\"89\" HEIGHT=\"30\" WC=\"0.96\" CONTENT=\"array\"/><SP WIDTH=\"19\" VPOS=\"465\" HPOS=\"450\"/>\\n\\t\\t\\t\\t\\t\\t\\t<String ID=\"string_7\" HPOS=\"469\" VPOS=\"458\" WIDTH=\"187\" HEIGHT=\"37\" WC=\"0.96\" CONTENT=\"consisting\"/><SP WIDTH=\"21\" VPOS=\"458\" HPOS=\"656\"/>\\n\\t\\t\\t\\t\\t\\t\\t<String ID=\"string_8\" HPOS=\"677\" VPOS=\"456\" WIDTH=\"36\" HEIGHT=\"31\" WC=\"0.96\" CONTENT=\"of\"/><SP WIDTH=\"20\" VPOS=\"456\" HPOS=\"713\"/>\\n\\t\\t\\t\\t\\t\\t\\t<String ID=\"string_9\" HPOS=\"733\" VPOS=\"458\" WIDTH=\"140\" HEIGHT=\"37\" WC=\"0.96\" CONTENT=\"positive\"/><SP WIDTH=\"21\" VPOS=\"458\" HPOS=\"873\"/>\\n\\t\\t\\t\\t\\t\\t\\t<String ID=\"string_10\" HPOS=\"894\" VPOS=\"458\" WIDTH=\"154\" HEIGHT=\"37\" WC=\"0.96\" CONTENT=\"integers.\"/>\\n\\t\\t\\t\\t\\t\\t</TextLine>\\n\\t\\t\\t\\t\\t\\t<TextLine ID=\"line_2\" HPOS=\"22\" VPOS=\"507\" WIDTH=\"1027\" HEIGHT=\"31\">\\n\\t\\t\\t\\t\\t\\t\\t<String ID=\"string_11\" HPOS=\"22\" VPOS=\"509\" WIDTH=\"66\" HEIGHT=\"29\" WC=\"0.96\" CONTENT=\"You\"/><SP WIDTH=\"28\" VPOS=\"509\" HPOS=\"88\"/>\\n\\t\\t\\t\\t\\t\\t\\t<String ID=\"string_12\" HPOS=\"116\" VPOS=\"507\" WIDTH=\"84\" HEIGHT=\"31\" WC=\"0.96\" CONTENT=\"need\"/><SP WIDTH=\"24\" VPOS=\"507\" HPOS=\"200\"/>\\n\\t\\t\\t\\t\\t\\t\\t<String ID=\"string_13\" HPOS=\"224\" VPOS=\"510\" WIDTH=\"35\" HEIGHT=\"28\" WC=\"0.96\" CONTENT=\"to\"/><SP WIDTH=\"26\" VPOS=\"510\" HPOS=\"259\"/>\\n\\t\\t\\t\\t\\t\\t\\t<String ID=\"string_14\" HPOS=\"285\" VPOS=\"507\" WIDTH=\"96\" HEIGHT=\"31\" WC=\"0.95\" CONTENT=\"make\"/><SP WIDTH=\"26\" VPOS=\"507\" HPOS=\"381\"/>\\n\\t\\t\\t\\t\\t\\t\\t<String ID=\"string_15\" HPOS=\"407\" VPOS=\"507\" WIDTH=\"37\" HEIGHT=\"31\" WC=\"0.95\" CONTENT=\"all\"/><SP WIDTH=\"25\" VPOS=\"507\" HPOS=\"444\"/>\\n\\t\\t\\t\\t\\t\\t\\t<String ID=\"string_16\" HPOS=\"469\" VPOS=\"507\" WIDTH=\"57\" HEIGHT=\"31\" WC=\"0.95\" CONTENT=\"the\"/><SP WIDTH=\"26\" VPOS=\"507\" HPOS=\"526\"/>\\n\\t\\t\\t\\t\\t\\t\\t<String ID=\"string_17\" HPOS=\"552\" VPOS=\"507\" WIDTH=\"157\" HEIGHT=\"31\" WC=\"0.96\" CONTENT=\"numbers\"/><SP WIDTH=\"25\" VPOS=\"507\" HPOS=\"709\"/>\\n\\t\\t\\t\\t\\t\\t\\t<String ID=\"string_18\" HPOS=\"734\" VPOS=\"507\" WIDTH=\"66\" HEIGHT=\"31\" WC=\"0.95\" CONTENT=\"odd\"/><SP WIDTH=\"27\" VPOS=\"507\" HPOS=\"800\"/>\\n\\t\\t\\t\\t\\t\\t\\t<String ID=\"string_19\" HPOS=\"827\" VPOS=\"509\" WIDTH=\"27\" HEIGHT=\"29\" WC=\"0.95\" CONTENT=\"in\"/><SP WIDTH=\"27\" VPOS=\"509\" HPOS=\"854\"/>\\n\\t\\t\\t\\t\\t\\t\\t<String ID=\"string_20\" HPOS=\"881\" VPOS=\"509\" WIDTH=\"168\" HEIGHT=\"29\" WC=\"0.96\" CONTENT=\"minimum\"/>\\n\\t\\t\\t\\t\\t\\t</TextLine>\\n\\t\\t\\t\\t\\t\\t<TextLine ID=\"line_3\" HPOS=\"24\" VPOS=\"558\" WIDTH=\"1027\" HEIGHT=\"39\">\\n\\t\\t\\t\\t\\t\\t\\t<String ID=\"string_21\" HPOS=\"24\" VPOS=\"558\" WIDTH=\"138\" HEIGHT=\"31\" WC=\"0.96\" CONTENT=\"number\"/><SP WIDTH=\"19\" VPOS=\"558\" HPOS=\"162\"/>\\n\\t\\t\\t\\t\\t\\t\\t<String ID=\"string_22\" HPOS=\"181\" VPOS=\"558\" WIDTH=\"36\" HEIGHT=\"31\" WC=\"0.96\" CONTENT=\"of\"/><SP WIDTH=\"19\" VPOS=\"558\" HPOS=\"217\"/>\\n\\t\\t\\t\\t\\t\\t\\t<String ID=\"string_23\" HPOS=\"236\" VPOS=\"561\" WIDTH=\"107\" HEIGHT=\"36\" WC=\"0.96\" CONTENT=\"steps.\"/><SP WIDTH=\"24\" VPOS=\"561\" HPOS=\"343\"/>\\n\\t\\t\\t\\t\\t\\t\\t<String ID=\"string_24\" HPOS=\"367\" VPOS=\"560\" WIDTH=\"56\" HEIGHT=\"29\" WC=\"0.96\" CONTENT=\"For\"/><SP WIDTH=\"17\" VPOS=\"560\" HPOS=\"423\"/>\\n\\t\\t\\t\\t\\t\\t\\t<String ID=\"string_25\" HPOS=\"440\" VPOS=\"558\" WIDTH=\"66\" HEIGHT=\"31\" WC=\"0.96\" CONTENT=\"this\"/><SP WIDTH=\"20\" VPOS=\"558\" HPOS=\"506\"/>\\n\\t\\t\\t\\t\\t\\t\\t<String ID=\"string_26\" HPOS=\"526\" VPOS=\"567\" WIDTH=\"62\" HEIGHT=\"30\" WC=\"0.96\" CONTENT=\"you\"/><SP WIDTH=\"21\" VPOS=\"567\" HPOS=\"588\"/>\\n\\t\\t\\t\\t\\t\\t\\t<String ID=\"string_27\" HPOS=\"609\" VPOS=\"567\" WIDTH=\"62\" HEIGHT=\"22\" WC=\"0.96\" CONTENT=\"can\"/><SP WIDTH=\"22\" VPOS=\"567\" HPOS=\"671\"/>\\n\\t\\t\\t\\t\\t\\t\\t<String ID=\"string_28\" HPOS=\"693\" VPOS=\"558\" WIDTH=\"107\" HEIGHT=\"31\" WC=\"0.95\" CONTENT=\"select\"/><SP WIDTH=\"21\" VPOS=\"558\" HPOS=\"800\"/>\\n\\t\\t\\t\\t\\t\\t\\t<String ID=\"string_29\" HPOS=\"821\" VPOS=\"567\" WIDTH=\"17\" HEIGHT=\"22\" WC=\"0.96\" CONTENT=\"a\"/><SP WIDTH=\"22\" VPOS=\"567\" HPOS=\"838\"/>\\n\\t\\t\\t\\t\\t\\t\\t<String ID=\"string_30\" HPOS=\"860\" VPOS=\"558\" WIDTH=\"137\" HEIGHT=\"31\" WC=\"0.96\" CONTENT=\"number\"/><SP WIDTH=\"19\" VPOS=\"558\" HPOS=\"997\"/>\\n\\t\\t\\t\\t\\t\\t\\t<String ID=\"string_31\" HPOS=\"1016\" VPOS=\"558\" WIDTH=\"35\" HEIGHT=\"31\" WC=\"0.96\" CONTENT=\"\\xe2\\x80\\x98a\\xe2\\x80\\x99\"/>\\n\\t\\t\\t\\t\\t\\t</TextLine>\\n\\t\\t\\t\\t\\t\\t<TextLine ID=\"line_4\" HPOS=\"23\" VPOS=\"609\" WIDTH=\"1026\" HEIGHT=\"39\">\\n\\t\\t\\t\\t\\t\\t\\t<String ID=\"string_32\" HPOS=\"23\" VPOS=\"609\" WIDTH=\"84\" HEIGHT=\"31\" WC=\"0.96\" CONTENT=\"from\"/><SP WIDTH=\"16\" VPOS=\"609\" HPOS=\"107\"/>\\n\\t\\t\\t\\t\\t\\t\\t<String ID=\"string_33\" HPOS=\"123\" VPOS=\"609\" WIDTH=\"57\" HEIGHT=\"31\" WC=\"0.96\" CONTENT=\"the\"/><SP WIDTH=\"17\" VPOS=\"609\" HPOS=\"180\"/>\\n\\t\\t\\t\\t\\t\\t\\t<String ID=\"string_34\" HPOS=\"197\" VPOS=\"618\" WIDTH=\"89\" HEIGHT=\"30\" WC=\"0.96\" CONTENT=\"array\"/><SP WIDTH=\"17\" VPOS=\"618\" HPOS=\"286\"/>\\n\\t\\t\\t\\t\\t\\t\\t<String ID=\"string_35\" HPOS=\"303\" VPOS=\"609\" WIDTH=\"63\" HEIGHT=\"31\" WC=\"0.96\" CONTENT=\"and\"/><SP WIDTH=\"18\" VPOS=\"609\" HPOS=\"366\"/>\\n\\t\\t\\t\\t\\t\\t\\t<String ID=\"string_36\" HPOS=\"384\" VPOS=\"609\" WIDTH=\"106\" HEIGHT=\"31\" WC=\"0.96\" CONTENT=\"divide\"/><SP WIDTH=\"18\" VPOS=\"609\" HPOS=\"490\"/>\\n\\t\\t\\t\\t\\t\\t\\t<String ID=\"string_37\" HPOS=\"508\" VPOS=\"609\" WIDTH=\"38\" HEIGHT=\"31\" WC=\"0.96\" CONTENT=\"all\"/><SP WIDTH=\"20\" VPOS=\"609\" HPOS=\"546\"/>\\n\\t\\t\\t\\t\\t\\t\\t<String ID=\"string_38\" HPOS=\"566\" VPOS=\"609\" WIDTH=\"47\" HEIGHT=\"31\" WC=\"0.93\" CONTENT=\"it\\xe2\\x80\\x99s\"/><SP WIDTH=\"17\" VPOS=\"609\" HPOS=\"613\"/>\\n\\t\\t\\t\\t\\t\\t\\t<String ID=\"string_39\" HPOS=\"630\" VPOS=\"618\" WIDTH=\"223\" HEIGHT=\"22\" WC=\"0.96\" CONTENT=\"occurrences\"/><SP WIDTH=\"19\" VPOS=\"618\" HPOS=\"853\"/>\\n\\t\\t\\t\\t\\t\\t\\t<String ID=\"string_40\" HPOS=\"872\" VPOS=\"609\" WIDTH=\"39\" HEIGHT=\"39\" WC=\"0.96\" CONTENT=\"by\"/><SP WIDTH=\"16\" VPOS=\"609\" HPOS=\"911\"/>\\n\\t\\t\\t\\t\\t\\t\\t<String ID=\"string_41\" HPOS=\"927\" VPOS=\"611\" WIDTH=\"29\" HEIGHT=\"29\" WC=\"0.96\" CONTENT=\"2.\"/><SP WIDTH=\"20\" VPOS=\"611\" HPOS=\"956\"/>\\n\\t\\t\\t\\t\\t\\t\\t<String ID=\"string_42\" HPOS=\"976\" VPOS=\"609\" WIDTH=\"73\" HEIGHT=\"31\" WC=\"0.96\" CONTENT=\"Find\"/>\\n\\t\\t\\t\\t\\t\\t</TextLine>\\n\\t\\t\\t\\t\\t\\t<TextLine ID=\"line_5\" HPOS=\"22\" VPOS=\"660\" WIDTH=\"564\" HEIGHT=\"39\">\\n\\t\\t\\t\\t\\t\\t\\t<String ID=\"string_43\" HPOS=\"22\" VPOS=\"660\" WIDTH=\"57\" HEIGHT=\"31\" WC=\"0.96\" CONTENT=\"the\"/><SP WIDTH=\"15\" VPOS=\"660\" HPOS=\"79\"/>\\n\\t\\t\\t\\t\\t\\t\\t<String ID=\"string_44\" HPOS=\"94\" VPOS=\"662\" WIDTH=\"168\" HEIGHT=\"29\" WC=\"0.96\" CONTENT=\"minimum\"/><SP WIDTH=\"17\" VPOS=\"662\" HPOS=\"262\"/>\\n\\t\\t\\t\\t\\t\\t\\t<String ID=\"string_45\" HPOS=\"279\" VPOS=\"660\" WIDTH=\"137\" HEIGHT=\"31\" WC=\"0.96\" CONTENT=\"number\"/><SP WIDTH=\"13\" VPOS=\"660\" HPOS=\"416\"/>\\n\\t\\t\\t\\t\\t\\t\\t<String ID=\"string_46\" HPOS=\"429\" VPOS=\"660\" WIDTH=\"36\" HEIGHT=\"31\" WC=\"0.95\" CONTENT=\"of\"/><SP WIDTH=\"13\" VPOS=\"660\" HPOS=\"465\"/>\\n\\t\\t\\t\\t\\t\\t\\t<String ID=\"string_47\" HPOS=\"478\" VPOS=\"664\" WIDTH=\"108\" HEIGHT=\"35\" WC=\"0.96\" CONTENT=\"steps.\"/>\\n\\t\\t\\t\\t\\t\\t</TextLine>\\n\\t\\t\\t\\t\\t</TextBlock>\\n\\t\\t\\t\\t</ComposedBlock>\\n\\t\\t\\t</PrintSpace>\\n\\t\\t</Page>\\n\\t</Layout>\\n</alto>\\n'"
      ]
     },
     "execution_count": 33,
     "metadata": {},
     "output_type": "execute_result"
    }
   ],
   "source": [
    "xml = pytesseract.image_to_alto_xml('images/1.png')\n",
    "xml"
   ]
  },
  {
   "cell_type": "markdown",
   "id": "clear-cyprus",
   "metadata": {},
   "source": [
    "### Reading Images Text on numpy Images (OPENCV)\n",
    "* Read the image\n",
    "* convert it to RGB\n",
    "* Extract the text using `pytesseract.image_to_string(image, ...)`\n"
   ]
  },
  {
   "cell_type": "markdown",
   "id": "floating-armenia",
   "metadata": {},
   "source": [
    "##### Example"
   ]
  },
  {
   "cell_type": "code",
   "execution_count": 36,
   "id": "local-answer",
   "metadata": {},
   "outputs": [
    {
     "name": "stdout",
     "output_type": "stream",
     "text": [
      "Make Odd\n",
      "\n",
      "You are given an array consisting of positive integers.\n",
      "You need to make all the numbers odd in minimum\n",
      "number of steps. For this you can select a number ‘a’\n",
      "from the array and divide all it’s occurrences by 2. Find\n",
      "the minimum number of steps.\n",
      "\f",
      "\n"
     ]
    },
    {
     "data": {
      "image/png": "[encoded data removed]",
      "text/plain": [
       "<Figure size 432x288 with 1 Axes>"
      ]
     },
     "metadata": {
      "needs_background": "light"
     },
     "output_type": "display_data"
    }
   ],
   "source": [
    "image = cv2.imread('images/1.png')\n",
    "imageRGB = cv2.cvtColor(image, cv2.COLOR_BGR2RGB)\n",
    "\n",
    "text = pytesseract.image_to_string(imageRGB)\n",
    "print(text)\n",
    "plt.imshow(imageRGB)\n",
    "plt.show()"
   ]
  },
  {
   "cell_type": "code",
   "execution_count": null,
   "id": "right-steal",
   "metadata": {},
   "outputs": [],
   "source": [
    "### Summary\n",
    "**Functions**\n",
    "\n",
    "* `get_languages`\n",
    "    * Returns all currently supported languages by Tesseract OCR.\n",
    "* `get_tesseract_version`\n",
    "    * Returns the Tesseract version installed in the system.\n",
    "*  `image_to_string`\n",
    "    * Returns unmodified output as string from Tesseract OCR processing\n",
    "*  `image_to_boxes`\n",
    "    * Returns result containing recognized characters and their box boundaries\n",
    "*  `image_to_data`\n",
    "    * Returns result containing box boundaries, confidences, and other information. Requires Tesseract 3.05+. For more information, please check the Tesseract TSV documentation\n",
    "*   `image_to_osd`\n",
    "    * Returns result containing information about orientation and script detection.\n",
    "*   `image_to_alto_xml`\n",
    "    * Returns result in the form of Tesseract’s ALTO XML format.\n",
    "*   `run_and_get_output`\n",
    "    * Returns the raw output from Tesseract OCR. Gives a bit more control over the parameters that are sent to tesseract.\n",
    "\n",
    "**Parameters**\n",
    "```\n",
    "image_to_data(image, lang=None, config='', nice=0, output_type=Output.STRING, timeout=0, pandas_config=None)\n",
    "```\n"
   ]
  },
  {
   "cell_type": "code",
   "execution_count": null,
   "id": "thermal-brooks",
   "metadata": {},
   "outputs": [],
   "source": [
    "> For More Read The [Doccs]()"
   ]
  },
  {
   "cell_type": "code",
   "execution_count": null,
   "id": "widespread-polyester",
   "metadata": {},
   "outputs": [],
   "source": []
  },
  {
   "cell_type": "markdown",
   "id": "improving-supplier",
   "metadata": {},
   "source": []
  },
  {
   "cell_type": "code",
   "execution_count": null,
   "id": "viral-fairy",
   "metadata": {},
   "outputs": [],
   "source": []
  }
 ],
 "metadata": {
  "kernelspec": {
   "display_name": "Python 3",
   "language": "python",
   "name": "python3"
  },
  "language_info": {
   "codemirror_mode": {
    "name": "ipython",
    "version": 3
   },
   "file_extension": ".py",
   "mimetype": "text/x-python",
   "name": "python",
   "nbconvert_exporter": "python",
   "pygments_lexer": "ipython3",
   "version": "3.8.5"
  }
 },
 "nbformat": 4,
 "nbformat_minor": 5
}
