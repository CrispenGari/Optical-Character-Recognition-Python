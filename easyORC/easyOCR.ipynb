{
 "cells": [
  {
   "cell_type": "markdown",
   "id": "included-valuation",
   "metadata": {},
   "source": [
    "# Optical character recognition (ORC)-easyorc\n",
    "* Is the electronic or mechanical conversion of images of typed, handwritten or printed text into machine-encoded text, whether from a scanned document, a photo of a document, a scene-photo"
   ]
  },
  {
   "cell_type": "markdown",
   "id": "wrong-delhi",
   "metadata": {},
   "source": [
    "### Structure\n",
    "* we are going to detect text from images using easyorc which are in the folder `images`\n",
    "* dispalay the images using matplotlib\n",
    "* drawing bounding boxes using opencv"
   ]
  },
  {
   "cell_type": "markdown",
   "id": "patent-quarter",
   "metadata": {},
   "source": [
    "## Istallation\n",
    "* to use easyorc we need to install it as follows"
   ]
  },
  {
   "cell_type": "code",
   "execution_count": 1,
   "id": "catholic-damage",
   "metadata": {},
   "outputs": [
    {
     "name": "stdout",
     "output_type": "stream",
     "text": [
      "Collecting easyocr\n",
      "  Downloading easyocr-1.3.0.1-py3-none-any.whl (63.0 MB)\n",
      "Collecting python-bidi\n",
      "  Downloading python_bidi-0.4.2-py2.py3-none-any.whl (30 kB)\n",
      "Collecting opencv-python\n",
      "  Using cached opencv_python-4.5.1.48-cp38-cp38-win_amd64.whl (34.9 MB)\n",
      "Requirement already satisfied: Pillow in c:\\users\\crisp\\documents\\anaconda3\\lib\\site-packages (from easyocr) (8.1.2)\n",
      "Requirement already satisfied: torchvision>=0.5 in c:\\users\\crisp\\documents\\anaconda3\\lib\\site-packages (from easyocr) (0.9.1+cpu)\n",
      "Requirement already satisfied: PyYAML in c:\\users\\crisp\\documents\\anaconda3\\lib\\site-packages (from easyocr) (5.4.1)\n",
      "Requirement already satisfied: torch in c:\\users\\crisp\\documents\\anaconda3\\lib\\site-packages (from easyocr) (1.8.1+cpu)\n",
      "Requirement already satisfied: scipy in c:\\users\\crisp\\documents\\anaconda3\\lib\\site-packages (from easyocr) (1.6.1)\n",
      "Collecting scikit-image\n",
      "  Downloading scikit_image-0.18.1-cp38-cp38-win_amd64.whl (12.2 MB)\n",
      "Requirement already satisfied: numpy in c:\\users\\crisp\\documents\\anaconda3\\lib\\site-packages (from easyocr) (1.19.5)\n",
      "Requirement already satisfied: typing-extensions in c:\\users\\crisp\\documents\\anaconda3\\lib\\site-packages (from torch->easyocr) (3.7.4.3)\n",
      "Requirement already satisfied: six in c:\\users\\crisp\\documents\\anaconda3\\lib\\site-packages (from python-bidi->easyocr) (1.15.0)\n",
      "Collecting networkx>=2.0\n",
      "  Downloading networkx-2.5.1-py3-none-any.whl (1.6 MB)\n",
      "Collecting imageio>=2.3.0\n",
      "  Downloading imageio-2.9.0-py3-none-any.whl (3.3 MB)\n",
      "Requirement already satisfied: matplotlib!=3.0.0,>=2.0.0 in c:\\users\\crisp\\documents\\anaconda3\\lib\\site-packages (from scikit-image->easyocr) (3.3.4)\n",
      "Collecting PyWavelets>=1.1.1\n",
      "  Downloading PyWavelets-1.1.1-cp38-cp38-win_amd64.whl (4.3 MB)\n",
      "Collecting tifffile>=2019.7.26\n",
      "  Downloading tifffile-2021.3.31-py3-none-any.whl (165 kB)\n",
      "Requirement already satisfied: cycler>=0.10 in c:\\users\\crisp\\documents\\anaconda3\\lib\\site-packages (from matplotlib!=3.0.0,>=2.0.0->scikit-image->easyocr) (0.10.0)\n",
      "Requirement already satisfied: python-dateutil>=2.1 in c:\\users\\crisp\\documents\\anaconda3\\lib\\site-packages (from matplotlib!=3.0.0,>=2.0.0->scikit-image->easyocr) (2.8.1)\n",
      "Requirement already satisfied: pyparsing!=2.0.4,!=2.1.2,!=2.1.6,>=2.0.3 in c:\\users\\crisp\\documents\\anaconda3\\lib\\site-packages (from matplotlib!=3.0.0,>=2.0.0->scikit-image->easyocr) (2.4.7)\n",
      "Requirement already satisfied: kiwisolver>=1.0.1 in c:\\users\\crisp\\documents\\anaconda3\\lib\\site-packages (from matplotlib!=3.0.0,>=2.0.0->scikit-image->easyocr) (1.3.1)\n",
      "Requirement already satisfied: decorator<5,>=4.3 in c:\\users\\crisp\\documents\\anaconda3\\lib\\site-packages (from networkx>=2.0->scikit-image->easyocr) (4.4.2)\n",
      "Installing collected packages: tifffile, PyWavelets, networkx, imageio, scikit-image, python-bidi, opencv-python, easyocr\n",
      "Successfully installed PyWavelets-1.1.1 easyocr-1.3.0.1 imageio-2.9.0 networkx-2.5.1 opencv-python-4.5.1.48 python-bidi-0.4.2 scikit-image-0.18.1 tifffile-2021.3.31\n"
     ]
    }
   ],
   "source": [
    "!pip install easyocr"
   ]
  },
  {
   "cell_type": "markdown",
   "id": "martial-parliament",
   "metadata": {},
   "source": [
    "## Imports Of required packages\n",
    "* we are going to use the following packages \n",
    "    * matplotlib\n",
    "    * easyorc\n",
    "    * cv2"
   ]
  },
  {
   "cell_type": "code",
   "execution_count": 2,
   "id": "requested-demand",
   "metadata": {},
   "outputs": [],
   "source": [
    "import cv2\n",
    "from matplotlib import pyplot as plt\n",
    "import easyocr as ocr"
   ]
  },
  {
   "cell_type": "code",
   "execution_count": 3,
   "id": "imposed-engine",
   "metadata": {},
   "outputs": [
    {
     "data": {
      "text/plain": [
       "['images/1.png', 'images/2.png', 'images/3.png', 'images/4.png']"
      ]
     },
     "execution_count": 3,
     "metadata": {},
     "output_type": "execute_result"
    }
   ],
   "source": [
    "# All the images that are in the images folder\n",
    "\n",
    "images = [f'images/{str(i+1)}.png' for i in range(4)]\n",
    "images"
   ]
  },
  {
   "cell_type": "code",
   "execution_count": null,
   "id": "short-catholic",
   "metadata": {},
   "outputs": [],
   "source": [
    "### Basic OCR from an image path"
   ]
  },
  {
   "cell_type": "code",
   "execution_count": 7,
   "id": "about-pursuit",
   "metadata": {},
   "outputs": [
    {
     "name": "stderr",
     "output_type": "stream",
     "text": [
      "Using CPU. Note: This module is much faster with a GPU.\n"
     ]
    },
    {
     "data": {
      "text/plain": [
       "[([[20, 380], [244, 380], [244, 430], [20, 430]],\n",
       "  'Make Odd',\n",
       "  0.8496842257580434),\n",
       " ([[19, 453], [95, 453], [95, 493], [19, 493]], 'YoU', 0.9770687347181095),\n",
       " ([[106, 460], [170, 460], [170, 492], [106, 492]], 'are', 0.9218642711639404),\n",
       " ([[176, 452], [286, 452], [286, 502], [176, 502]],\n",
       "  'given',\n",
       "  0.9967484620830299),\n",
       " ([[293, 459], [457, 459], [457, 501], [293, 501]],\n",
       "  'an array',\n",
       "  0.7989506289009513),\n",
       " ([[457, 442], [1049, 442], [1049, 505], [457, 505]],\n",
       "  'consisting of positive integers。',\n",
       "  0.5998779642379315),\n",
       " ([[21, 505], [95, 505], [95, 545], [21, 545]], 'YoU', 0.928697314064624),\n",
       " ([[109, 501], [207, 501], [207, 545], [109, 545]],\n",
       "  'need',\n",
       "  0.9922178387641907),\n",
       " ([[219, 505], [265, 505], [265, 545], [219, 545]], 't0', 0.7645442088961399),\n",
       " ([[281, 505], [387, 505], [387, 545], [281, 545]],\n",
       "  'make',\n",
       "  0.9797182083129883),\n",
       " ([[401, 501], [531, 501], [531, 545], [401, 545]],\n",
       "  'all the',\n",
       "  0.937250093798777),\n",
       " ([[547, 501], [807, 501], [807, 545], [547, 545]],\n",
       "  'numbers odd',\n",
       "  0.8527655205337923),\n",
       " ([[819, 505], [861, 505], [861, 545], [819, 545]], 'i', 0.9621193034445383),\n",
       " ([[875, 501], [1055, 501], [1055, 545], [875, 545]],\n",
       "  'minimum',\n",
       "  0.9968255117908171),\n",
       " ([[18, 551], [345, 551], [345, 606], [18, 606]],\n",
       "  'number of steps。',\n",
       "  0.5725711704253188),\n",
       " ([[360, 552], [597, 552], [597, 602], [360, 602]],\n",
       "  'For this yoU',\n",
       "  0.7177321233991236),\n",
       " ([[605, 555], [807, 555], [807, 595], [605, 595]],\n",
       "  'Can Select',\n",
       "  0.7322343889783497),\n",
       " ([[815, 551], [1005, 551], [1005, 595], [815, 595]],\n",
       "  'a number',\n",
       "  0.9006248155944879),\n",
       " ([[1021, 555], [1057, 555], [1057, 595], [1021, 595]],\n",
       "  \"a'\",\n",
       "  0.8631958477093777),\n",
       " ([[16, 601], [956, 601], [956, 655], [16, 655]],\n",
       "  'from the array and divide all its occurrences by 2',\n",
       "  0.6504249251583369),\n",
       " ([[969, 603], [1055, 603], [1055, 647], [969, 647]],\n",
       "  'Find',\n",
       "  0.9976681470870972),\n",
       " ([[13, 649], [596, 649], [596, 710], [13, 710]],\n",
       "  'the minimum number of steps。',\n",
       "  0.8509365483568477)]"
      ]
     },
     "execution_count": 7,
     "metadata": {},
     "output_type": "execute_result"
    }
   ],
   "source": [
    "reader = ocr.Reader([\"ch_sim\", \"en\"], gpu=False)\n",
    "results = reader.readtext(images[0])\n",
    "results # results will be an array of detection"
   ]
  },
  {
   "cell_type": "markdown",
   "id": "deadly-desktop",
   "metadata": {},
   "source": [
    "> **We passsed `gpu=False`** because we are working on a cpu of which the model is faster on GPUs"
   ]
  },
  {
   "cell_type": "markdown",
   "id": "cooked-maine",
   "metadata": {},
   "source": [
    "> `reader = ocr.Reader(['ch_sim','en'])` is for loading model into memory. It takes some time but it need to be run only once."
   ]
  },
  {
   "cell_type": "markdown",
   "id": "demographic-spending",
   "metadata": {},
   "source": [
    "> Instead of passing **`images[0]`** we can pass opencv image object which is a numpy array"
   ]
  },
  {
   "cell_type": "markdown",
   "id": "corporate-benjamin",
   "metadata": {},
   "source": [
    "> **`detail = 0`** is used for simpler output."
   ]
  },
  {
   "cell_type": "code",
   "execution_count": 9,
   "id": "accessible-vietnamese",
   "metadata": {},
   "outputs": [
    {
     "data": {
      "text/plain": [
       "['Make Odd',\n",
       " 'YoU',\n",
       " 'are',\n",
       " 'given',\n",
       " 'an array',\n",
       " 'consisting of positive integers。',\n",
       " 'YoU',\n",
       " 'need',\n",
       " 't0',\n",
       " 'make',\n",
       " 'all the',\n",
       " 'numbers odd',\n",
       " 'i',\n",
       " 'minimum',\n",
       " 'number of steps。',\n",
       " 'For this yoU',\n",
       " 'Can Select',\n",
       " 'a number',\n",
       " \"a'\",\n",
       " 'from the array and divide all its occurrences by 2',\n",
       " 'Find',\n",
       " 'the minimum number of steps。']"
      ]
     },
     "execution_count": 9,
     "metadata": {},
     "output_type": "execute_result"
    }
   ],
   "source": [
    "results = reader.readtext(images[0], detail = 0)\n",
    "results # this will return only the text on the image"
   ]
  },
  {
   "cell_type": "code",
   "execution_count": null,
   "id": "casual-calibration",
   "metadata": {},
   "outputs": [],
   "source": [
    "#### Example: Visualise and see the images and text returned from images"
   ]
  },
  {
   "cell_type": "code",
   "execution_count": 36,
   "id": "complex-management",
   "metadata": {},
   "outputs": [
    {
     "name": "stdout",
     "output_type": "stream",
     "text": [
      "['Example', 'Input', '6', '406403201', 'Output', '4']\n"
     ]
    },
    {
     "data": {
      "image/png": "[encoded data removed]",
      "text/plain": [
       "<Figure size 432x288 with 1 Axes>"
      ]
     },
     "metadata": {
      "needs_background": "light"
     },
     "output_type": "display_data"
    }
   ],
   "source": [
    "image = cv2.imread(images[1])\n",
    "imageDrawing = image.copy()\n",
    "imageRGB = cv2.cvtColor(image, cv2.COLOR_BGR2RGB)\n",
    "\n",
    "results = reader.readtext(images[1], detail=0)\n",
    "print(results)\n",
    "plt.imshow(imageRGB)\n",
    "plt.show()"
   ]
  },
  {
   "cell_type": "markdown",
   "id": "maritime-shaft",
   "metadata": {},
   "source": [
    "# Drawing a rectangle on each text Detected and visualise it\n",
    "* we don't need to pass `detail=0` in our case since we also want to get the coodinates of the detected text so that we can draw a rectangle around it.\n"
   ]
  },
  {
   "cell_type": "code",
   "execution_count": 39,
   "id": "atlantic-control",
   "metadata": {},
   "outputs": [],
   "source": [
    "results = reader.readtext(images[1])"
   ]
  },
  {
   "cell_type": "code",
   "execution_count": 62,
   "id": "scientific-puppy",
   "metadata": {
    "scrolled": true
   },
   "outputs": [
    {
     "name": "stdout",
     "output_type": "stream",
     "text": [
      "[[101, 27], [618, 27], [618, 174], [101, 174]] Example\n",
      "[[96, 227], [383, 227], [383, 354], [96, 354]] Input\n",
      "[[107, 427], [171, 427], [171, 511], [107, 511]] 6\n",
      "[[102, 554], [806, 554], [806, 656], [102, 656]] 406403201\n",
      "[[97, 737], [466, 737], [466, 870], [97, 870]] Output\n",
      "[[107, 939], [173, 939], [173, 1021], [107, 1021]] 4\n"
     ]
    },
    {
     "data": {
      "image/png": "[encoded data removed]",
      "text/plain": [
       "<Figure size 432x288 with 1 Axes>"
      ]
     },
     "metadata": {
      "needs_background": "light"
     },
     "output_type": "display_data"
    }
   ],
   "source": [
    "\n",
    "for result in results:\n",
    "    coodinates = result[0]\n",
    "    text = result[1]\n",
    "    print(coodinates, text)\n",
    "    \n",
    "    w, h = coodinates[0][0]+coodinates[2][0], coodinates[0][1]+coodinates[2][1]\n",
    "\n",
    "    imageDrawing = cv2.rectangle(imageDrawing,tuple(coodinates[0]), (w,h), (255, 0, 0), 2)\n",
    "    imageDrawing = cv2.putText(imageDrawing,text, tuple(coodinates[3]),cv2.FONT_HERSHEY_PLAIN,5, (0, 0, 0), 4)\n",
    "\n",
    "plt.imshow(imageDrawing)\n",
    "plt.show()"
   ]
  },
  {
   "cell_type": "code",
   "execution_count": null,
   "id": "valued-passion",
   "metadata": {},
   "outputs": [],
   "source": []
  },
  {
   "cell_type": "code",
   "execution_count": null,
   "id": "engaging-orlando",
   "metadata": {},
   "outputs": [],
   "source": []
  },
  {
   "cell_type": "markdown",
   "id": "impressive-balloon",
   "metadata": {},
   "source": [
    "### Basic OCR from an opencv numpy array"
   ]
  },
  {
   "cell_type": "code",
   "execution_count": 66,
   "id": "willing-taiwan",
   "metadata": {},
   "outputs": [
    {
     "data": {
      "text/plain": [
       "['Example', 'Input', '6', '406403201', 'Output', '4']"
      ]
     },
     "execution_count": 66,
     "metadata": {},
     "output_type": "execute_result"
    }
   ],
   "source": [
    "image = cv2.imread(images[1])\n",
    "imageDrawing = image.copy()\n",
    "results = reader.readtext(image, detail=0)\n",
    "results"
   ]
  },
  {
   "cell_type": "code",
   "execution_count": 67,
   "id": "acquired-humanity",
   "metadata": {},
   "outputs": [
    {
     "data": {
      "text/plain": [
       "([[101, 27], [618, 27], [618, 174], [101, 174]], 'Example', 0.8987835330103122)"
      ]
     },
     "execution_count": 67,
     "metadata": {},
     "output_type": "execute_result"
    }
   ],
   "source": [
    "results = reader.readtext(image)\n",
    "results[0]"
   ]
  },
  {
   "cell_type": "code",
   "execution_count": 68,
   "id": "straight-measurement",
   "metadata": {},
   "outputs": [
    {
     "name": "stdout",
     "output_type": "stream",
     "text": [
      "[[101, 27], [618, 27], [618, 174], [101, 174]] Example\n",
      "[[96, 227], [383, 227], [383, 354], [96, 354]] Input\n",
      "[[107, 427], [171, 427], [171, 511], [107, 511]] 6\n",
      "[[102, 554], [806, 554], [806, 656], [102, 656]] 406403201\n",
      "[[97, 737], [466, 737], [466, 870], [97, 870]] Output\n",
      "[[107, 939], [173, 939], [173, 1021], [107, 1021]] 4\n"
     ]
    },
    {
     "data": {
      "image/png": "[encoded data removed]",
      "text/plain": [
       "<Figure size 432x288 with 1 Axes>"
      ]
     },
     "metadata": {
      "needs_background": "light"
     },
     "output_type": "display_data"
    }
   ],
   "source": [
    "for result in results:\n",
    "    coodinates = result[0]\n",
    "    text = result[1]\n",
    "    print(coodinates, text)\n",
    "    \n",
    "    w, h = coodinates[0][0]+coodinates[2][0], coodinates[0][1]+coodinates[2][1]\n",
    "\n",
    "    imageDrawing = cv2.rectangle(imageDrawing,tuple(coodinates[0]), (w,h), (255, 0, 0), 2)\n",
    "    imageDrawing = cv2.putText(imageDrawing,text, tuple(coodinates[3]),cv2.FONT_HERSHEY_PLAIN,5, (0, 0, 0), 4)\n",
    "\n",
    "plt.imshow(imageDrawing)\n",
    "plt.show()"
   ]
  },
  {
   "cell_type": "markdown",
   "id": "heard-reporter",
   "metadata": {},
   "source": [
    "### Reading Paragraphs"
   ]
  },
  {
   "cell_type": "code",
   "execution_count": 79,
   "id": "spare-adelaide",
   "metadata": {
    "scrolled": true
   },
   "outputs": [
    {
     "name": "stderr",
     "output_type": "stream",
     "text": [
      "Using CPU. Note: This module is much faster with a GPU.\n"
     ]
    }
   ],
   "source": [
    "\n",
    "reader = ocr.Reader([\"en\"], gpu=False, download_enabled=False)\n",
    "results = reader.readtext(images[0], paragraph=True, min_size=10)\n"
   ]
  },
  {
   "cell_type": "code",
   "execution_count": 80,
   "id": "administrative-banks",
   "metadata": {},
   "outputs": [
    {
     "data": {
      "text/plain": [
       "\"Make Odd You are given an array consisting of positive integers. You need to make all the numbers odd in minimum number of steps: For this you can select a number [ a' from the array and divide all it's occurrences by 2. Find the minimum number of steps:\""
      ]
     },
     "execution_count": 80,
     "metadata": {},
     "output_type": "execute_result"
    }
   ],
   "source": [
    "results[0][1]"
   ]
  },
  {
   "cell_type": "markdown",
   "id": "federal-catering",
   "metadata": {},
   "source": [
    "## Documentation Reference\n",
    "* [Github](https://github.com/JaidedAI/EasyOCR)\n",
    "* [API Docs](https://www.jaided.ai/easyocr/documentation/)\n",
    "* [Suppoted Languages](https://www.jaided.ai/easyocr/)"
   ]
  },
  {
   "cell_type": "code",
   "execution_count": null,
   "id": "korean-documentation",
   "metadata": {},
   "outputs": [],
   "source": []
  }
 ],
 "metadata": {
  "kernelspec": {
   "display_name": "Python 3",
   "language": "python",
   "name": "python3"
  },
  "language_info": {
   "codemirror_mode": {
    "name": "ipython",
    "version": 3
   },
   "file_extension": ".py",
   "mimetype": "text/x-python",
   "name": "python",
   "nbconvert_exporter": "python",
   "pygments_lexer": "ipython3",
   "version": "3.8.5"
  }
 },
 "nbformat": 4,
 "nbformat_minor": 5
}
