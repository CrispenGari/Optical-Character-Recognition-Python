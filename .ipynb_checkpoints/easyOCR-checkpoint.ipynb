{
 "cells": [
  {
   "cell_type": "markdown",
   "id": "liked-anaheim",
   "metadata": {},
   "source": [
    "# Optical character recognition (ORC)-easyorc\n",
    "* Is the electronic or mechanical conversion of images of typed, handwritten or printed text into machine-encoded text, whether from a scanned document, a photo of a document, a scene-photo"
   ]
  },
  {
   "cell_type": "markdown",
   "id": "designed-maryland",
   "metadata": {},
   "source": [
    "### Structure\n",
    "* we are going to detect text from images using easyorc which are in the folder `images`\n",
    "* dispalay the images using matplotlib\n",
    "* drawing bounding boxes using opencv"
   ]
  },
  {
   "cell_type": "markdown",
   "id": "sporting-fight",
   "metadata": {},
   "source": [
    "## Istallation\n",
    "* to use easyorc we need to install it as follows"
   ]
  },
  {
   "cell_type": "code",
   "execution_count": 1,
   "id": "brave-canvas",
   "metadata": {},
   "outputs": [
    {
     "name": "stdout",
     "output_type": "stream",
     "text": [
      "Collecting easyocr\n",
      "  Downloading easyocr-1.3.0.1-py3-none-any.whl (63.0 MB)\n",
      "Collecting python-bidi\n",
      "  Downloading python_bidi-0.4.2-py2.py3-none-any.whl (30 kB)\n",
      "Collecting opencv-python\n",
      "  Using cached opencv_python-4.5.1.48-cp38-cp38-win_amd64.whl (34.9 MB)\n",
      "Requirement already satisfied: Pillow in c:\\users\\crisp\\documents\\anaconda3\\lib\\site-packages (from easyocr) (8.1.2)\n",
      "Requirement already satisfied: torchvision>=0.5 in c:\\users\\crisp\\documents\\anaconda3\\lib\\site-packages (from easyocr) (0.9.1+cpu)\n",
      "Requirement already satisfied: PyYAML in c:\\users\\crisp\\documents\\anaconda3\\lib\\site-packages (from easyocr) (5.4.1)\n",
      "Requirement already satisfied: torch in c:\\users\\crisp\\documents\\anaconda3\\lib\\site-packages (from easyocr) (1.8.1+cpu)\n",
      "Requirement already satisfied: scipy in c:\\users\\crisp\\documents\\anaconda3\\lib\\site-packages (from easyocr) (1.6.1)\n",
      "Collecting scikit-image\n",
      "  Downloading scikit_image-0.18.1-cp38-cp38-win_amd64.whl (12.2 MB)\n",
      "Requirement already satisfied: numpy in c:\\users\\crisp\\documents\\anaconda3\\lib\\site-packages (from easyocr) (1.19.5)\n",
      "Requirement already satisfied: typing-extensions in c:\\users\\crisp\\documents\\anaconda3\\lib\\site-packages (from torch->easyocr) (3.7.4.3)\n",
      "Requirement already satisfied: six in c:\\users\\crisp\\documents\\anaconda3\\lib\\site-packages (from python-bidi->easyocr) (1.15.0)\n",
      "Collecting networkx>=2.0\n",
      "  Downloading networkx-2.5.1-py3-none-any.whl (1.6 MB)\n",
      "Collecting imageio>=2.3.0\n",
      "  Downloading imageio-2.9.0-py3-none-any.whl (3.3 MB)\n",
      "Requirement already satisfied: matplotlib!=3.0.0,>=2.0.0 in c:\\users\\crisp\\documents\\anaconda3\\lib\\site-packages (from scikit-image->easyocr) (3.3.4)\n",
      "Collecting PyWavelets>=1.1.1\n",
      "  Downloading PyWavelets-1.1.1-cp38-cp38-win_amd64.whl (4.3 MB)\n",
      "Collecting tifffile>=2019.7.26\n",
      "  Downloading tifffile-2021.3.31-py3-none-any.whl (165 kB)\n",
      "Requirement already satisfied: cycler>=0.10 in c:\\users\\crisp\\documents\\anaconda3\\lib\\site-packages (from matplotlib!=3.0.0,>=2.0.0->scikit-image->easyocr) (0.10.0)\n",
      "Requirement already satisfied: python-dateutil>=2.1 in c:\\users\\crisp\\documents\\anaconda3\\lib\\site-packages (from matplotlib!=3.0.0,>=2.0.0->scikit-image->easyocr) (2.8.1)\n",
      "Requirement already satisfied: pyparsing!=2.0.4,!=2.1.2,!=2.1.6,>=2.0.3 in c:\\users\\crisp\\documents\\anaconda3\\lib\\site-packages (from matplotlib!=3.0.0,>=2.0.0->scikit-image->easyocr) (2.4.7)\n",
      "Requirement already satisfied: kiwisolver>=1.0.1 in c:\\users\\crisp\\documents\\anaconda3\\lib\\site-packages (from matplotlib!=3.0.0,>=2.0.0->scikit-image->easyocr) (1.3.1)\n",
      "Requirement already satisfied: decorator<5,>=4.3 in c:\\users\\crisp\\documents\\anaconda3\\lib\\site-packages (from networkx>=2.0->scikit-image->easyocr) (4.4.2)\n",
      "Installing collected packages: tifffile, PyWavelets, networkx, imageio, scikit-image, python-bidi, opencv-python, easyocr\n",
      "Successfully installed PyWavelets-1.1.1 easyocr-1.3.0.1 imageio-2.9.0 networkx-2.5.1 opencv-python-4.5.1.48 python-bidi-0.4.2 scikit-image-0.18.1 tifffile-2021.3.31\n"
     ]
    }
   ],
   "source": [
    "!pip install easyocr"
   ]
  },
  {
   "cell_type": "markdown",
   "id": "controlled-declaration",
   "metadata": {},
   "source": [
    "## Imports Of required packages\n",
    "* we are going to use the following packages \n",
    "    * matplotlib\n",
    "    * easyorc\n",
    "    * cv2"
   ]
  },
  {
   "cell_type": "code",
   "execution_count": 2,
   "id": "advanced-layer",
   "metadata": {},
   "outputs": [],
   "source": [
    "import cv2\n",
    "from matplotlib import pyplot as plt\n",
    "import easyocr as ocr"
   ]
  },
  {
   "cell_type": "code",
   "execution_count": 3,
   "id": "generic-vaccine",
   "metadata": {},
   "outputs": [
    {
     "data": {
      "text/plain": [
       "['images/1.png', 'images/2.png', 'images/3.png', 'images/4.png']"
      ]
     },
     "execution_count": 3,
     "metadata": {},
     "output_type": "execute_result"
    }
   ],
   "source": [
    "# All the images that are in the images folder\n",
    "\n",
    "images = [f'images/{str(i+1)}.png' for i in range(4)]\n",
    "images"
   ]
  },
  {
   "cell_type": "code",
   "execution_count": null,
   "id": "designed-positive",
   "metadata": {},
   "outputs": [],
   "source": [
    "### Basic OCR from an image path"
   ]
  },
  {
   "cell_type": "code",
   "execution_count": null,
   "id": "ambient-emerald",
   "metadata": {},
   "outputs": [],
   "source": []
  },
  {
   "cell_type": "code",
   "execution_count": null,
   "id": "million-amplifier",
   "metadata": {},
   "outputs": [],
   "source": [
    "### Basic OCR from an opencv numpy array"
   ]
  },
  {
   "cell_type": "code",
   "execution_count": null,
   "id": "classical-wireless",
   "metadata": {},
   "outputs": [],
   "source": []
  },
  {
   "cell_type": "code",
   "execution_count": null,
   "id": "monetary-perry",
   "metadata": {},
   "outputs": [],
   "source": []
  },
  {
   "cell_type": "code",
   "execution_count": null,
   "id": "dental-tulsa",
   "metadata": {},
   "outputs": [],
   "source": []
  },
  {
   "cell_type": "code",
   "execution_count": null,
   "id": "detected-portrait",
   "metadata": {},
   "outputs": [],
   "source": []
  },
  {
   "cell_type": "code",
   "execution_count": null,
   "id": "military-separation",
   "metadata": {},
   "outputs": [],
   "source": []
  },
  {
   "cell_type": "markdown",
   "id": "simplified-spain",
   "metadata": {},
   "source": [
    "## Documentation Reference\n",
    "* [Github](https://github.com/JaidedAI/EasyOCR)"
   ]
  },
  {
   "cell_type": "code",
   "execution_count": null,
   "id": "colored-doctrine",
   "metadata": {},
   "outputs": [],
   "source": []
  }
 ],
 "metadata": {
  "kernelspec": {
   "display_name": "Python 3",
   "language": "python",
   "name": "python3"
  },
  "language_info": {
   "codemirror_mode": {
    "name": "ipython",
    "version": 3
   },
   "file_extension": ".py",
   "mimetype": "text/x-python",
   "name": "python",
   "nbconvert_exporter": "python",
   "pygments_lexer": "ipython3",
   "version": "3.8.5"
  }
 },
 "nbformat": 4,
 "nbformat_minor": 5
}
